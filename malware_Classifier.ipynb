{
 "cells": [
  {
   "cell_type": "code",
   "execution_count": 2,
   "id": "12f10fc8-701b-4acc-9b46-7b32bdc1c1e2",
   "metadata": {},
   "outputs": [],
   "source": [
    "from tensorflow.keras import Input\n",
    "from tensorflow.keras.models import Sequential\n",
    "from tensorflow.keras.layers import Dense\n",
    "from tensorflow.keras.optimizers import Adam\n",
    "import pandas as pd\n",
    "import numpy as np\n",
    "from sklearn.model_selection import train_test_split\n",
    "from sklearn.metrics import confusion_matrix, classification_report"
   ]
  },
  {
   "cell_type": "code",
   "execution_count": 3,
   "id": "e16400c8-bf22-455d-a987-2fb06d4b22b0",
   "metadata": {},
   "outputs": [],
   "source": [
    "# Loading dataset\n",
    "data = pd.read_csv(\"MalwareData.csv\", delimiter='|')\n",
    "\n",
    "# Feature selection and target variable\n",
    "X = data.iloc[:, 2:-1].values  # All numeric features excluding 'Name', 'md5', and target\n",
    "y = data['legitimate'].values  # Target variable\n",
    "\n",
    "# Normalizing features\n",
    "X = (X - np.min(X, axis=0)) / (np.max(X, axis=0) - np.min(X, axis=0))\n",
    "\n",
    "# Splitting data\n",
    "X_train, X_temp, y_train, y_temp = train_test_split(X, y, test_size=0.2, random_state=42)\n",
    "X_val, X_test, y_val, y_test = train_test_split(X_temp, y_temp, test_size=0.5, random_state=42)"
   ]
  },
  {
   "cell_type": "code",
   "execution_count": 6,
   "id": "5b5a7e3b-0238-4349-818e-b39133b179af",
   "metadata": {},
   "outputs": [],
   "source": [
    "# Building model\n",
    "model = Sequential([\n",
    "    Input(shape=(X_train.shape[1],)),  # Input layer\n",
    "    Dense(64, activation='relu'),\n",
    "    Dense(32, activation='relu'),\n",
    "    Dense(1, activation='sigmoid')  # Sigmoid for binary classification\n",
    "])\n",
    "\n",
    "# Compile model\n",
    "model.compile(optimizer=Adam(learning_rate=0.001), loss='binary_crossentropy', metrics=['accuracy'])"
   ]
  },
  {
   "cell_type": "code",
   "execution_count": 8,
   "id": "c518a6cf-388b-48a4-a313-d77a5d7c7e2d",
   "metadata": {},
   "outputs": [
    {
     "name": "stdout",
     "output_type": "stream",
     "text": [
      "Epoch 1/10\n",
      "\u001b[1m3452/3452\u001b[0m \u001b[32m━━━━━━━━━━━━━━━━━━━━\u001b[0m\u001b[37m\u001b[0m \u001b[1m4s\u001b[0m 777us/step - accuracy: 0.9419 - loss: 0.1428 - val_accuracy: 0.9838 - val_loss: 0.0492\n",
      "Epoch 2/10\n",
      "\u001b[1m3452/3452\u001b[0m \u001b[32m━━━━━━━━━━━━━━━━━━━━\u001b[0m\u001b[37m\u001b[0m \u001b[1m3s\u001b[0m 764us/step - accuracy: 0.9850 - loss: 0.0485 - val_accuracy: 0.9850 - val_loss: 0.0507\n",
      "Epoch 3/10\n",
      "\u001b[1m3452/3452\u001b[0m \u001b[32m━━━━━━━━━━━━━━━━━━━━\u001b[0m\u001b[37m\u001b[0m \u001b[1m3s\u001b[0m 819us/step - accuracy: 0.9863 - loss: 0.0450 - val_accuracy: 0.9875 - val_loss: 0.0428\n",
      "Epoch 4/10\n",
      "\u001b[1m3452/3452\u001b[0m \u001b[32m━━━━━━━━━━━━━━━━━━━━\u001b[0m\u001b[37m\u001b[0m \u001b[1m3s\u001b[0m 759us/step - accuracy: 0.9869 - loss: 0.0424 - val_accuracy: 0.9876 - val_loss: 0.0423\n",
      "Epoch 5/10\n",
      "\u001b[1m3452/3452\u001b[0m \u001b[32m━━━━━━━━━━━━━━━━━━━━\u001b[0m\u001b[37m\u001b[0m \u001b[1m3s\u001b[0m 739us/step - accuracy: 0.9872 - loss: 0.0410 - val_accuracy: 0.9878 - val_loss: 0.0400\n",
      "Epoch 6/10\n",
      "\u001b[1m3452/3452\u001b[0m \u001b[32m━━━━━━━━━━━━━━━━━━━━\u001b[0m\u001b[37m\u001b[0m \u001b[1m3s\u001b[0m 763us/step - accuracy: 0.9867 - loss: 0.0409 - val_accuracy: 0.9878 - val_loss: 0.0398\n",
      "Epoch 7/10\n",
      "\u001b[1m3452/3452\u001b[0m \u001b[32m━━━━━━━━━━━━━━━━━━━━\u001b[0m\u001b[37m\u001b[0m \u001b[1m3s\u001b[0m 755us/step - accuracy: 0.9874 - loss: 0.0398 - val_accuracy: 0.9884 - val_loss: 0.0398\n",
      "Epoch 8/10\n",
      "\u001b[1m3452/3452\u001b[0m \u001b[32m━━━━━━━━━━━━━━━━━━━━\u001b[0m\u001b[37m\u001b[0m \u001b[1m3s\u001b[0m 744us/step - accuracy: 0.9874 - loss: 0.0386 - val_accuracy: 0.9880 - val_loss: 0.0407\n",
      "Epoch 9/10\n",
      "\u001b[1m3452/3452\u001b[0m \u001b[32m━━━━━━━━━━━━━━━━━━━━\u001b[0m\u001b[37m\u001b[0m \u001b[1m3s\u001b[0m 742us/step - accuracy: 0.9880 - loss: 0.0383 - val_accuracy: 0.9882 - val_loss: 0.0378\n",
      "Epoch 10/10\n",
      "\u001b[1m3452/3452\u001b[0m \u001b[32m━━━━━━━━━━━━━━━━━━━━\u001b[0m\u001b[37m\u001b[0m \u001b[1m3s\u001b[0m 738us/step - accuracy: 0.9882 - loss: 0.0357 - val_accuracy: 0.9876 - val_loss: 0.0404\n",
      "\u001b[1m432/432\u001b[0m \u001b[32m━━━━━━━━━━━━━━━━━━━━\u001b[0m\u001b[37m\u001b[0m \u001b[1m0s\u001b[0m 548us/step - accuracy: 0.9886 - loss: 0.0397\n",
      "Test Loss: 0.038362596184015274\n",
      "Test Accuracy: 0.9885548949241638\n"
     ]
    }
   ],
   "source": [
    "# Training model\n",
    "history = model.fit(X_train, y_train, validation_data=(X_val, y_val), epochs=10, batch_size=32)\n",
    "\n",
    "# Evaluating model\n",
    "loss, accuracy = model.evaluate(X_test, y_test)\n",
    "print(f\"Test Loss: {loss}\")\n",
    "print(f\"Test Accuracy: {accuracy}\")"
   ]
  },
  {
   "cell_type": "code",
   "execution_count": 10,
   "id": "e2f46b3e-5958-4cf7-89b6-f7f0a49a6cb7",
   "metadata": {},
   "outputs": [
    {
     "name": "stdout",
     "output_type": "stream",
     "text": [
      "\u001b[1m432/432\u001b[0m \u001b[32m━━━━━━━━━━━━━━━━━━━━\u001b[0m\u001b[37m\u001b[0m \u001b[1m0s\u001b[0m 677us/step\n",
      "[[9564  108]\n",
      " [  50 4083]]\n",
      "              precision    recall  f1-score   support\n",
      "\n",
      "           0       0.99      0.99      0.99      9672\n",
      "           1       0.97      0.99      0.98      4133\n",
      "\n",
      "    accuracy                           0.99     13805\n",
      "   macro avg       0.98      0.99      0.99     13805\n",
      "weighted avg       0.99      0.99      0.99     13805\n",
      "\n"
     ]
    }
   ],
   "source": [
    "# Predictions and confusion matrix\n",
    "y_pred = (model.predict(X_test) > 0.5).astype(\"int32\")\n",
    "print(confusion_matrix(y_test, y_pred))\n",
    "print(classification_report(y_test, y_pred))"
   ]
  },
  {
   "cell_type": "code",
   "execution_count": 12,
   "id": "1b939074-da74-4d03-80db-bbc2460d1e63",
   "metadata": {},
   "outputs": [
    {
     "name": "stderr",
     "output_type": "stream",
     "text": [
      "WARNING:absl:You are saving your model as an HDF5 file via `model.save()` or `keras.saving.save_model(model)`. This file format is considered legacy. We recommend using instead the native Keras format, e.g. `model.save('my_model.keras')` or `keras.saving.save_model(model, 'my_model.keras')`. \n"
     ]
    },
    {
     "name": "stdout",
     "output_type": "stream",
     "text": [
      "Model saved as ScanMyPC_Training.h5\n"
     ]
    }
   ],
   "source": [
    "# Save model\n",
    "model.save(\"ScanMyPC_Training.h5\")\n",
    "print(\"Model saved as ScanMyPC_Training.h5\")"
   ]
  },
  {
   "cell_type": "code",
   "execution_count": null,
   "id": "94f8f67d-efd7-42cb-af64-3a2d6e44b2d8",
   "metadata": {},
   "outputs": [],
   "source": []
  }
 ],
 "metadata": {
  "kernelspec": {
   "display_name": "Python 3 (ipykernel)",
   "language": "python",
   "name": "python3"
  },
  "language_info": {
   "codemirror_mode": {
    "name": "ipython",
    "version": 3
   },
   "file_extension": ".py",
   "mimetype": "text/x-python",
   "name": "python",
   "nbconvert_exporter": "python",
   "pygments_lexer": "ipython3",
   "version": "3.12.4"
  }
 },
 "nbformat": 4,
 "nbformat_minor": 5
}
